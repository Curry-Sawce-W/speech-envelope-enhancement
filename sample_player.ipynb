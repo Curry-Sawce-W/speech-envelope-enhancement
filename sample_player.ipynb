{
 "cells": [
  {
   "cell_type": "code",
   "execution_count": 6,
   "id": "8cfc4b26-dbd0-4c61-8897-cac839ee1f88",
   "metadata": {},
   "outputs": [
    {
     "data": {
      "application/vnd.jupyter.widget-view+json": {
       "model_id": "f9079691ed8a4d7bb546eedd36459025",
       "version_major": 2,
       "version_minor": 0
      },
      "text/plain": [
       "Label(value=\"First run the code cell by clicking the play button next to 'Show code'.\")"
      ]
     },
     "metadata": {},
     "output_type": "display_data"
    },
    {
     "data": {
      "application/vnd.jupyter.widget-view+json": {
       "model_id": "a2cb8c00dabe428cb94e93178aa87681",
       "version_major": 2,
       "version_minor": 0
      },
      "text/plain": [
       "Label(value='Then select an algorithm, speech sample, and noise type from the dropdown menus and adjust the SN…"
      ]
     },
     "metadata": {},
     "output_type": "display_data"
    },
    {
     "data": {
      "application/vnd.jupyter.widget-view+json": {
       "model_id": "d3713f60740145099de0bef0e5959e7c",
       "version_major": 2,
       "version_minor": 0
      },
      "text/plain": [
       "interactive(children=(IntSlider(value=10, description='SNR', max=30, min=-10), Dropdown(description='processin…"
      ]
     },
     "metadata": {},
     "output_type": "display_data"
    }
   ],
   "source": [
    "import os\n",
    "from ipywidgets import interact, Label\n",
    "from pathlib import Path\n",
    "from IPython.display import display, Audio, HTML\n",
    "from see.utility import mix_and_display\n",
    "import ipywidgets as widgets\n",
    "import pyloudnorm as pyln\n",
    "import librosa\n",
    "import numpy as np\n",
    "import gdown\n",
    "\n",
    "# Define the root path based on where gdown downloaded the files\n",
    "ROOT = Path.cwd() \n",
    "WAV_PATH = ROOT / 'audio' # gdown --folder seems to create an 'audio' folder in the current directory\n",
    "SPEECH_PATH = WAV_PATH / 'speech'\n",
    "NOISE_PATH = WAV_PATH / 'noise'\n",
    "\n",
    "ALGOS = {\n",
    "    'MSE-A': 'https://drive.google.com/drive/folders/1C_2YfiizFwM-kdXB_0KDANqxGhj1XowK?usp=sharing',\n",
    "    'MSE-B': 'https://drive.google.com/drive/folders/1Q_Ddv7FpuWTFghnqLBpyNXBDyM7Bw6uP?usp=sharing', \n",
    "    'OE-A': 'https://drive.google.com/drive/folders/1z7RbFRO86aqfFnII7BdRztTk_2g58Fnp?usp=sharing', \n",
    "    'OE-B': 'https://drive.google.com/drive/folders/1z7RbFRO86aqfFnII7BdRztTk_2g58Fnp?usp=sharing',\n",
    "    'UP': 'https://drive.google.com/drive/folders/1jkdjKibcZysG2B5L2Lh8rcbaO1YcZ4K8?usp=sharing'\n",
    "}\n",
    "\n",
    "#for algo in ALGOS.keys():\n",
    "  #url = ALGOS[algo]\n",
    "  #gdown.download_folder(url, output=str(SPEECH_PATH / algo), quiet=True)\n",
    "\n",
    "  #url = 'https://drive.google.com/drive/folders/1DBp6B--trc6qdcOwd6xhgG3Qfr7l0FPc?usp=sharing'\n",
    "  #gdown.download_folder(url, output=str(NOISE_PATH), quiet=True)\n",
    "\n",
    "# Check if the directories exist after download\n",
    "#if not SPEECH_PATH.exists():\n",
    "#    print(f\"Error: Speech directory not found at {SPEECH_PATH}\")\n",
    "#if not NOISE_PATH.exists():\n",
    "#     print(f\"Error: Noise directory not found at {NOISE_PATH}\")\n",
    "\n",
    "\n",
    "# List files only if the directories exist\n",
    "fnames = []\n",
    "if SPEECH_PATH.exists():\n",
    "    fnames = [f.strip(\"_UP.wav\") for f in os.listdir(SPEECH_PATH) if f.endswith('_UP.wav')]\n",
    "\n",
    "noise_types = []\n",
    "if NOISE_PATH.exists():\n",
    "    noise_types = [f.rstrip(\".wav\") for f in os.listdir(NOISE_PATH) if f.endswith('.wav')]\n",
    "\n",
    "\n",
    "readme_1 = Label(value=f\"First run the code cell by clicking the play button next to 'Show code'.\")\n",
    "readme_2 = Label(value=f\"Then select an algorithm, speech sample, and noise type from the dropdown menus and adjust the SNR slider to compare against unprocessed speech under different listening conditions.\")\n",
    "\n",
    "\n",
    "display(readme_1, readme_2)\n",
    "interact(mix_and_display, SNR=10, processing=['MSE-A','MSE-B', 'OE-A', 'OE-B'], sample=fnames, noise=noise_types+[None]);"
   ]
  },
  {
   "cell_type": "code",
   "execution_count": null,
   "id": "a3bbddfb-8852-4deb-a5ab-673f296c93bd",
   "metadata": {},
   "outputs": [],
   "source": []
  }
 ],
 "metadata": {
  "kernelspec": {
   "display_name": "Python 3 (ipykernel)",
   "language": "python",
   "name": "python3"
  },
  "language_info": {
   "codemirror_mode": {
    "name": "ipython",
    "version": 3
   },
   "file_extension": ".py",
   "mimetype": "text/x-python",
   "name": "python",
   "nbconvert_exporter": "python",
   "pygments_lexer": "ipython3",
   "version": "3.13.5"
  }
 },
 "nbformat": 4,
 "nbformat_minor": 5
}
