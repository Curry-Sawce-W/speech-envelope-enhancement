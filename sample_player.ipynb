
!pip install --quiet pyloudnorm;
!pip install --quiet librosa;

!pip install -q gdown
# Download the audio files from Google Drive. The --folder flag recreates the folder structure.

import os
from ipywidgets import interact, Label
from pathlib import Path
from IPython.display import display, Audio, HTML
from utility import mix_and_display
import ipywidgets as widgets
import pyloudnorm as pyln
import librosa
import numpy as np
import gdown

# Define the root path based on where gdown downloaded the files
ROOT = Path.cwd() 
WAV_PATH = ROOT / 'sound' # gdown --folder seems to create an 'audio' folder in the current directory
SPEECH_PATH = WAV_PATH / 'speech'
NOISE_PATH = WAV_PATH / 'noise'

ALGOS = {
    'MSE-A': 'https://drive.google.com/drive/folders/1C_2YfiizFwM-kdXB_0KDANqxGhj1XowK?usp=sharing',
    'MSE-B': 'https://drive.google.com/drive/folders/1Q_Ddv7FpuWTFghnqLBpyNXBDyM7Bw6uP?usp=sharing', 
    'OE-A': 'https://drive.google.com/drive/folders/1z7RbFRO86aqfFnII7BdRztTk_2g58Fnp?usp=sharing', 
    'OE-B': 'https://drive.google.com/drive/folders/1z7RbFRO86aqfFnII7BdRztTk_2g58Fnp?usp=sharing',
    'UP': 'https://drive.google.com/drive/folders/1jkdjKibcZysG2B5L2Lh8rcbaO1YcZ4K8?usp=sharing'
}

for algo in ALGOS.keys():
  url = ALGOS[algo]
  gdown.download_folder(url, output=str(SPEECH_PATH / algo), quiet=True)

  url = 'https://drive.google.com/drive/folders/1DBp6B--trc6qdcOwd6xhgG3Qfr7l0FPc?usp=sharing'
  gdown.download_folder(url, output=str(NOISE_PATH), quiet=True)

# Check if the directories exist after download
if not SPEECH_PATH.exists():
    print(f"Error: Speech directory not found at {SPEECH_PATH}")
if not NOISE_PATH.exists():
     print(f"Error: Noise directory not found at {NOISE_PATH}")


# List files only if the directories exist
fnames = []
if SPEECH_PATH.exists():
    fnames = [f.strip("_UP.wav") for f in os.listdir(SPEECH_PATH) if f.endswith('_UP.wav')]

noise_types = []
if NOISE_PATH.exists():
    noise_types = [f.rstrip(".wav") for f in os.listdir(NOISE_PATH) if f.endswith('.wav')]


readme_1 = Label(value=f"First run the code cell by clicking the play button next to 'Show code'.")
readme_2 = Label(value=f"Then select an algorithm, speech sample, and noise type from the dropdown menus and adjust the SNR slider to compare against unprocessed speech under different listening conditions.")


display(readme_1, readme_2)
interact(mix_and_display, SNR=10, processing=['MSE-A','MSE-B', 'OE-A', 'OE-B'], sample=fnames, noise=noise_types+[None]);
