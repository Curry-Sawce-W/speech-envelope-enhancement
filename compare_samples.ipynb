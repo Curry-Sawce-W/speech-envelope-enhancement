{
 "cells": [
  {
   "cell_type": "code",
   "execution_count": null,
   "id": "7f31ce08",
   "metadata": {},
   "outputs": [],
   "source": [
    "import os\n",
    "from ipywidgets import interact\n",
    "from pathlib import Path\n",
    "from see.utility import mix_and_display as mix\n",
    "\n",
    "ROOT = Path.cwd()\n",
    "WAV_PATH = ROOT / 'audio'\n",
    "SPEECH_PATH = WAV_PATH / 'speech'\n",
    "NOISE_PATH = WAV_PATH / 'noise'\n",
    "\n",
    "noise_types = ['pink_noise', 'SSN', 'SMN']\n",
    "fnames = [f.strip(\"_UP.wav\") for f in os.listdir(SPEECH_PATH) if f.endswith('_UP.wav')]\n",
    "noise_types = [f.rstrip(\".wav\") for f in os.listdir(NOISE_PATH) if f.endswith('.wav')]"
   ]
  },
  {
   "cell_type": "code",
   "execution_count": 6,
   "id": "f8558163",
   "metadata": {},
   "outputs": [
    {
     "data": {
      "application/vnd.jupyter.widget-view+json": {
       "model_id": "619e494041c841b691610c1dc248555d",
       "version_major": 2,
       "version_minor": 0
      },
      "text/plain": [
       "interactive(children=(IntSlider(value=10, description='SNR', max=30, min=-10), Dropdown(description='processin…"
      ]
     },
     "metadata": {},
     "output_type": "display_data"
    },
    {
     "data": {
      "text/plain": [
       "<function see.utility.mix_and_display(SNR, processing, sample, noise)>"
      ]
     },
     "execution_count": 6,
     "metadata": {},
     "output_type": "execute_result"
    }
   ],
   "source": [
    "interact(mix, SNR=10, processing=['MSE-A','MSE-B', 'OE-A', 'OE-B', 'OEMSE'], sample=fnames, noise=noise_types+[None])\n"
   ]
  }
 ],
 "metadata": {
  "kernelspec": {
   "display_name": "SEE",
   "language": "python",
   "name": "python3"
  },
  "language_info": {
   "codemirror_mode": {
    "name": "ipython",
    "version": 3
   },
   "file_extension": ".py",
   "mimetype": "text/x-python",
   "name": "python",
   "nbconvert_exporter": "python",
   "pygments_lexer": "ipython3",
   "version": "3.13.5"
  }
 },
 "nbformat": 4,
 "nbformat_minor": 5
}
